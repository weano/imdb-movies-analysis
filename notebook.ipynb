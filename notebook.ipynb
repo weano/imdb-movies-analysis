{
 "metadata": {
  "language_info": {
   "codemirror_mode": {
    "name": "ipython",
    "version": 3
   },
   "file_extension": ".py",
   "mimetype": "text/x-python",
   "name": "python",
   "nbconvert_exporter": "python",
   "pygments_lexer": "ipython3",
   "version": "3.9.0"
  },
  "orig_nbformat": 4,
  "kernelspec": {
   "name": "python3",
   "display_name": "Python 3.9.0 64-bit"
  },
  "interpreter": {
   "hash": "aee8b7b246df8f9039afb4144a1f6fd8d2ca17a180786b69acc140d282b71a49"
  }
 },
 "nbformat": 4,
 "nbformat_minor": 2,
 "cells": [
  {
   "source": [
    "## Introduction \n",
    "\n",
    "Hello! This is the first data science project I will be conducting, outside of any academic or professional environment, for the purposes of uploading for public view. I had originally considered a finance-based dataset, but stumbled upon this (at the time)fresh dataset on Kaggle that contained both qualitative and quantitative data, and more importantly, centred around a field that I have a personal interest in: films. \n",
    "\n",
    "The intended goal of this notebook, from a personal and professional development standpoint, is to display the application of certain data science related concepts that I have been learning primarily through my postgraduate program at the University of the West Indies, Mona, and secondarily through independent study using online resources. In terms of business applications, this project aims to classify certain films based on variables such as runtime, and genre, to recommend to cinema operations staff those films that may provide the greatest revenue.\n",
    "\n",
    "This dataset may be downloaded at: https://www.kaggle.com/preetviradiya/imdb-movies-ratings-details.\n",
    "\n",
    "## Data Dictionary\n",
    "\n",
    "| Field | Details |\n",
    "|  ---  |   ---   |\n",
    "| name  | The title of the film |\n",
    "| year  | The year the film was released |\n",
    "| runtime | The duration of the film in minutes |\n",
    "| genre | The genre of the film |\n",
    "| rating | The score of the film from 0 - 10 based on votes by imdb users |\n",
    "| metascore | The score of the film from 0 - 10 based on data from metacritic.com |\n",
    "| timeline | A short summary of the events of the film |\n",
    "| votes | The number of imdb users that have rated the film |\n",
    "| gross | The box office revenue for that film |\n"
   ],
   "cell_type": "markdown",
   "metadata": {}
  },
  {
   "cell_type": "code",
   "execution_count": 1,
   "metadata": {},
   "outputs": [],
   "source": [
    "import re\n",
    "import pandas as pd\n",
    "import numpy as np\n",
    "import seaborn as sns\n",
    "import matplotlib.pyplot as plt\n",
    "from sklearn import datasets\n",
    "from sklearn.cluster import KMeans, MeanShift, DBSCAN, Birch\n",
    "from sklearn import metrics"
   ]
  },
  {
   "cell_type": "code",
   "execution_count": 2,
   "metadata": {},
   "outputs": [],
   "source": [
    "df = pd.read_csv('IMDB_movie_reviews_details.csv')"
   ]
  },
  {
   "source": [
    "## Data Preparation"
   ],
   "cell_type": "markdown",
   "metadata": {}
  },
  {
   "cell_type": "code",
   "execution_count": 3,
   "metadata": {},
   "outputs": [
    {
     "output_type": "stream",
     "name": "stdout",
     "text": [
      "The field names are Unnamed: 0, name, year, runtime, genre, rating, metascore, timeline, votes, gross .\nThe size of the dataframe is 1000 records.\n"
     ]
    }
   ],
   "source": [
    "# View a list of the fields/columns in the dataset\n",
    "print('The field names are', \", \".join([str(i) for i in df.columns.to_list()]), '.')\n",
    "print('The size of the dataframe is', len(df), 'records.')"
   ]
  },
  {
   "cell_type": "code",
   "execution_count": 4,
   "metadata": {},
   "outputs": [
    {
     "output_type": "execute_result",
     "data": {
      "text/plain": [
       "   Unnamed: 0                      name  year  runtime                 genre  \\\n",
       "0           0  The Shawshank Redemption  1994      142                 Drama   \n",
       "1           1             The Godfather  1972      175          Crime, Drama   \n",
       "2           2           Soorarai Pottru  2020      153                 Drama   \n",
       "3           3           The Dark Knight  2008      152  Action, Crime, Drama   \n",
       "4           4    The Godfather: Part II  1974      202          Crime, Drama   \n",
       "\n",
       "   rating  metascore                                           timeline  \\\n",
       "0     9.3       80.0  Two imprisoned men bond over a number of years...   \n",
       "1     9.2      100.0  An organized crime dynasty's aging patriarch t...   \n",
       "2     9.1        NaN  Nedumaaran Rajangam \"Maara\" sets out to make t...   \n",
       "3     9.0       84.0  When the menace known as the Joker wreaks havo...   \n",
       "4     9.0       90.0  The early life and career of Vito Corleone in ...   \n",
       "\n",
       "       votes     gross  \n",
       "0  2,394,059   $28.34M  \n",
       "1  1,658,439  $134.97M  \n",
       "2     78,266       NaN  \n",
       "3  2,355,907  $534.86M  \n",
       "4  1,152,912   $57.30M  "
      ],
      "text/html": "<div>\n<style scoped>\n    .dataframe tbody tr th:only-of-type {\n        vertical-align: middle;\n    }\n\n    .dataframe tbody tr th {\n        vertical-align: top;\n    }\n\n    .dataframe thead th {\n        text-align: right;\n    }\n</style>\n<table border=\"1\" class=\"dataframe\">\n  <thead>\n    <tr style=\"text-align: right;\">\n      <th></th>\n      <th>Unnamed: 0</th>\n      <th>name</th>\n      <th>year</th>\n      <th>runtime</th>\n      <th>genre</th>\n      <th>rating</th>\n      <th>metascore</th>\n      <th>timeline</th>\n      <th>votes</th>\n      <th>gross</th>\n    </tr>\n  </thead>\n  <tbody>\n    <tr>\n      <th>0</th>\n      <td>0</td>\n      <td>The Shawshank Redemption</td>\n      <td>1994</td>\n      <td>142</td>\n      <td>Drama</td>\n      <td>9.3</td>\n      <td>80.0</td>\n      <td>Two imprisoned men bond over a number of years...</td>\n      <td>2,394,059</td>\n      <td>$28.34M</td>\n    </tr>\n    <tr>\n      <th>1</th>\n      <td>1</td>\n      <td>The Godfather</td>\n      <td>1972</td>\n      <td>175</td>\n      <td>Crime, Drama</td>\n      <td>9.2</td>\n      <td>100.0</td>\n      <td>An organized crime dynasty's aging patriarch t...</td>\n      <td>1,658,439</td>\n      <td>$134.97M</td>\n    </tr>\n    <tr>\n      <th>2</th>\n      <td>2</td>\n      <td>Soorarai Pottru</td>\n      <td>2020</td>\n      <td>153</td>\n      <td>Drama</td>\n      <td>9.1</td>\n      <td>NaN</td>\n      <td>Nedumaaran Rajangam \"Maara\" sets out to make t...</td>\n      <td>78,266</td>\n      <td>NaN</td>\n    </tr>\n    <tr>\n      <th>3</th>\n      <td>3</td>\n      <td>The Dark Knight</td>\n      <td>2008</td>\n      <td>152</td>\n      <td>Action, Crime, Drama</td>\n      <td>9.0</td>\n      <td>84.0</td>\n      <td>When the menace known as the Joker wreaks havo...</td>\n      <td>2,355,907</td>\n      <td>$534.86M</td>\n    </tr>\n    <tr>\n      <th>4</th>\n      <td>4</td>\n      <td>The Godfather: Part II</td>\n      <td>1974</td>\n      <td>202</td>\n      <td>Crime, Drama</td>\n      <td>9.0</td>\n      <td>90.0</td>\n      <td>The early life and career of Vito Corleone in ...</td>\n      <td>1,152,912</td>\n      <td>$57.30M</td>\n    </tr>\n  </tbody>\n</table>\n</div>"
     },
     "metadata": {},
     "execution_count": 4
    }
   ],
   "source": [
    "# The dataset has relatively few columns, so we can call the head method to view the top 5 records\n",
    "df.head()"
   ]
  },
  {
   "source": [
    "The Unnamed: 0 field corresponds to the ID number of the film in the original dataset, and is equivalent to the index of the film in the dataframe. This field is both irrelevant, and superfluous, so we can go ahead and drop it."
   ],
   "cell_type": "markdown",
   "metadata": {}
  },
  {
   "cell_type": "code",
   "execution_count": 5,
   "metadata": {},
   "outputs": [],
   "source": [
    "df.drop(columns='Unnamed: 0', inplace=True)"
   ]
  },
  {
   "source": [
    "Let us take a look at the data types"
   ],
   "cell_type": "markdown",
   "metadata": {}
  },
  {
   "cell_type": "code",
   "execution_count": 6,
   "metadata": {},
   "outputs": [
    {
     "output_type": "execute_result",
     "data": {
      "text/plain": [
       "name          object\n",
       "year          object\n",
       "runtime        int64\n",
       "genre         object\n",
       "rating       float64\n",
       "metascore    float64\n",
       "timeline      object\n",
       "votes         object\n",
       "gross         object\n",
       "dtype: object"
      ]
     },
     "metadata": {},
     "execution_count": 6
    }
   ],
   "source": [
    "df.dtypes"
   ]
  },
  {
   "source": [
    "We need to convert year, votes, and gross to numeric data types for further analysis. Year must be a 4 digit integer. Let us check if there are any values for year that do not fit this constraint."
   ],
   "cell_type": "markdown",
   "metadata": {}
  },
  {
   "cell_type": "code",
   "execution_count": 7,
   "metadata": {},
   "outputs": [
    {
     "output_type": "execute_result",
     "data": {
      "text/plain": [
       "I 2015      4\n",
       "I 2004      3\n",
       "I 2017      3\n",
       "I 2014      3\n",
       "II 2015     2\n",
       "II 2016     2\n",
       "I 2011      2\n",
       "I 2010      2\n",
       "I 2007      2\n",
       "I 2013      2\n",
       "III 2018    1\n",
       "I 2016      1\n",
       "I 2008      1\n",
       "I 1985      1\n",
       "I 2001      1\n",
       "III 2016    1\n",
       "I 2020      1\n",
       "I 1995      1\n",
       "Name: year, dtype: int64"
      ]
     },
     "metadata": {},
     "execution_count": 7
    }
   ],
   "source": [
    "df.loc[df.year.str.len() != 4].year.value_counts()"
   ]
  },
  {
   "source": [
    "We have a few items that include letters in their year value. Let us proceed by removing all alphabetical characters from values in the year field."
   ],
   "cell_type": "markdown",
   "metadata": {}
  },
  {
   "cell_type": "code",
   "execution_count": 8,
   "metadata": {},
   "outputs": [
    {
     "output_type": "stream",
     "name": "stdout",
     "text": [
      "The number of non 4 digit integers is 0\n"
     ]
    }
   ],
   "source": [
    "df.year = df.year.str.replace(r'\\D+', '', regex=True)\n",
    "# Let us check to see if this was performed correctly\n",
    "print('The number of non 4 digit integers is', len(df.loc[df.year.str.len() != 4].year))\n",
    "# Convert to int\n",
    "df.year = pd.to_numeric(df.year)"
   ]
  },
  {
   "source": [
    "Let us repeat this step for the other numerical fields: votes and gross."
   ],
   "cell_type": "markdown",
   "metadata": {}
  },
  {
   "cell_type": "code",
   "execution_count": 9,
   "metadata": {},
   "outputs": [],
   "source": [
    "df.votes = df.votes.str.replace(r'\\D+', '', regex=True)\n",
    "df.votes = pd.to_numeric(df.votes)"
   ]
  },
  {
   "cell_type": "code",
   "execution_count": 10,
   "metadata": {},
   "outputs": [
    {
     "output_type": "execute_result",
     "data": {
      "text/plain": [
       "0       $28.34M\n",
       "1      $134.97M\n",
       "2           NaN\n",
       "3      $534.86M\n",
       "4       $57.30M\n",
       "         ...   \n",
       "995         NaN\n",
       "996         NaN\n",
       "997     $20.00M\n",
       "998     $30.50M\n",
       "999         NaN\n",
       "Name: gross, Length: 1000, dtype: object"
      ]
     },
     "metadata": {},
     "execution_count": 10
    }
   ],
   "source": [
    "df.gross"
   ]
  },
  {
   "source": [
    "For gross, we need to consider that the values are expressed in terms of millions. The characters that follow the decimal point represent fractions of a millions unit. Accordingly, we can choose to either retain the decimal values, and keep this in mind when performing statistical analysis, or to convert the value to regular integers now. Let us go with the first option to save screen real estate. "
   ],
   "cell_type": "markdown",
   "metadata": {}
  },
  {
   "cell_type": "code",
   "execution_count": 11,
   "metadata": {},
   "outputs": [],
   "source": [
    "def gross_conversion(value):\n",
    "    \"\"\"\n",
    "    Removes all non-numeric characters from value except '.', then multiplies the resulting value by \n",
    "    1000000.\n",
    "    \"\"\"\n",
    "    try:\n",
    "        return float(re.sub(r'[^\\d.]+', '', str(value)))*1000000\n",
    "    except:\n",
    "        value = np.nan\n",
    "\n",
    "# Apply function to values in df.gross\n",
    "df['gross'] = df.gross.apply(gross_conversion)"
   ]
  },
  {
   "cell_type": "code",
   "execution_count": 12,
   "metadata": {},
   "outputs": [
    {
     "output_type": "execute_result",
     "data": {
      "text/plain": [
       "name          object\n",
       "year           int64\n",
       "runtime        int64\n",
       "genre         object\n",
       "rating       float64\n",
       "metascore    float64\n",
       "timeline      object\n",
       "votes          int64\n",
       "gross        float64\n",
       "dtype: object"
      ]
     },
     "metadata": {},
     "execution_count": 12
    }
   ],
   "source": [
    "# Let us confirm the new data types\n",
    "df.dtypes"
   ]
  },
  {
   "source": [
    "df.describe()"
   ],
   "cell_type": "markdown",
   "metadata": {}
  }
 ]
}